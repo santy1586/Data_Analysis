{
  "cells": [
    {
      "cell_type": "markdown",
      "metadata": {
        "id": "vncDsAP0Gaoa"
      },
      "source": [
        " #                                         Telecom Churn Analysis\n",
        "\n",
        "### Orange S.A., formerly France Télécom S.A., is a French multinational telecommunications corporation. The Orange Telecom's Churn Dataset, consists of cleaned customer activity data (features), along with a churn label specifying whether a customer canceled the subscription.\n",
        "### Explore and analyze the data to discover key factors responsible for customer churn and come up with ways/recommendations to ensure customer retention."
      ]
    },
    {
      "cell_type": "markdown",
      "source": [
        "## This Notebook is prepared by \n",
        "### ***santosh shinde***"
      ],
      "metadata": {
        "id": "tLrjxvg92tlK"
      }
    },
    {
      "cell_type": "markdown",
      "metadata": {
        "id": "FJNUwmbgGyua"
      },
      "source": [
        "# **Business Understanding Of A Telecom Industry Customer Churn:**"
      ]
    },
    {
      "cell_type": "markdown",
      "metadata": {
        "id": "F6v_1wHtG2nS"
      },
      "source": [
        "In recent years, customer churn prediction has become a hot research topic. Churners are people who leave a company's service for various reasons. \n",
        "\n",
        "Companies must be able to accurately predict customer behaviour in order to reduce customer churn. Customer churn has emerged as a major issue in all industries. According to studies, acquiring a new customer is more expensive than retaining an existing one.\n",
        "\n",
        "In order to retain existing customers, service providers need to know the reasons of churn, which can be realised through the knowledge extracted from the data.\n",
        "\n",
        "we will perform EDA(Exploratory Data Analysis) n order to get actionable insights and convert them into meaningful stories and present it so that the company will take necessary actions to prevent further churning.\n"
      ]
    },
    {
      "cell_type": "markdown",
      "metadata": {
        "id": "w6K7xa23Elo4"
      },
      "source": [
        "# **GitHub Link -**"
      ]
    },
    {
      "cell_type": "markdown",
      "metadata": {
        "id": "h1o69JH3Eqqn"
      },
      "source": [
        "GitHub Link - https://github.com/santy1586/Data_Analysis"
      ]
    },
    {
      "cell_type": "markdown",
      "metadata": {
        "id": "yQaldy8SH6Dl"
      },
      "source": [
        "# **Problem Statement**\n"
      ]
    },
    {
      "cell_type": "markdown",
      "metadata": {
        "id": "DpeJGUA3kjGy"
      },
      "source": [
        "Orange S.A, Fornaly France Telecom is a French mulinational telecommunications corporation. The Orange Telecom's Churn Dataset, consists of cleaned customer data, along with churn label specifying whether a customer cancelled the subscription. \n",
        "\n",
        "\n"
      ]
    },
    {
      "cell_type": "markdown",
      "metadata": {
        "id": "PH-0ReGfmX4f"
      },
      "source": [
        "#### **Business Objective**"
      ]
    },
    {
      "cell_type": "markdown",
      "metadata": {
        "id": "PhDvGCAqmjP1"
      },
      "source": [
        "As per the Organization requirements, We need to Explore and Analyze the data by performing Exploratory Data Analysis. And to find out what are the key factors responsible for customer churn. And how we can prevent from further retention. \n",
        "* Overall Maximizing the company's profit by retaining customer\n",
        "* Overall minimizing the customers by identifying the key cause of the problem"
      ]
    },
    {
      "cell_type": "markdown",
      "metadata": {
        "id": "HhfV-JJviCcP"
      },
      "source": [
        "## ***Now we will import libraries as well as the data which was provided by the Organization.***"
      ]
    },
    {
      "cell_type": "markdown",
      "metadata": {
        "id": "Y3lxredqlCYt"
      },
      "source": [
        "### Import Modules and Loading Data"
      ]
    },
    {
      "cell_type": "code",
      "execution_count": null,
      "metadata": {
        "id": "M8Vqi-pPk-HR"
      },
      "outputs": [],
      "source": [
        "# Import Libraries\n",
        "import pandas as pd\n",
        "import numpy as np\n",
        "import matplotlib.pyplot as plt\n",
        "%matplotlib inline\n",
        "import seaborn as sns\n",
        "import missingno as msno"
      ]
    },
    {
      "cell_type": "code",
      "execution_count": null,
      "metadata": {
        "id": "4CkvbW_SlZ_R"
      },
      "outputs": [],
      "source": [
        "# Load Dataset\n",
        "from google.colab import drive\n",
        "drive.mount('/content/drive')"
      ]
    },
    {
      "cell_type": "code",
      "execution_count": null,
      "metadata": {
        "id": "sz26WCps3Huy"
      },
      "outputs": [],
      "source": [
        "#insert the data file \n",
        "path='/content/drive/MyDrive/'\n",
        "df= pd.read_csv(path + 'Telecom Churn.csv')"
      ]
    },
    {
      "cell_type": "markdown",
      "metadata": {
        "id": "x71ZqKXriCWQ"
      },
      "source": [
        "### Dataset First View"
      ]
    },
    {
      "cell_type": "code",
      "execution_count": null,
      "metadata": {
        "id": "LWNFOSvLl09H"
      },
      "outputs": [],
      "source": [
        "# Dataset First Look\n",
        "df"
      ]
    },
    {
      "cell_type": "markdown",
      "metadata": {
        "id": "7hBIi_osiCS2"
      },
      "source": [
        "### Dataset Rows & Columns count"
      ]
    },
    {
      "cell_type": "code",
      "execution_count": null,
      "metadata": {
        "id": "Kllu7SJgmLij"
      },
      "outputs": [],
      "source": [
        "# Dataset Rows & Columns count\n",
        "df.shape"
      ]
    },
    {
      "cell_type": "markdown",
      "metadata": {
        "id": "JlHwYmJAmNHm"
      },
      "source": [
        "### Dataset Information"
      ]
    },
    {
      "cell_type": "code",
      "execution_count": null,
      "metadata": {
        "id": "e9hRXRi6meOf"
      },
      "outputs": [],
      "source": [
        "# Dataset Info\n",
        "df.info()"
      ]
    },
    {
      "cell_type": "code",
      "execution_count": null,
      "metadata": {
        "id": "07uEU-TIBJYk"
      },
      "outputs": [],
      "source": [
        "df.drop('Area code',axis = 1, inplace = True)"
      ]
    },
    {
      "cell_type": "markdown",
      "metadata": {
        "id": "RBpNrY48BJYl"
      },
      "source": [
        "As we are having State variable, we don't need area code."
      ]
    },
    {
      "cell_type": "code",
      "execution_count": null,
      "metadata": {
        "id": "8FpUR57QBJYl"
      },
      "outputs": [],
      "source": [
        "df"
      ]
    },
    {
      "cell_type": "markdown",
      "metadata": {
        "id": "35m5QtbWiB9F"
      },
      "source": [
        "#### Duplicate Values"
      ]
    },
    {
      "cell_type": "code",
      "execution_count": null,
      "metadata": {
        "id": "1sLdpKYkmox0"
      },
      "outputs": [],
      "source": [
        "# Dataset Duplicate Value Count\n",
        "df[df.duplicated()].sum()"
      ]
    },
    {
      "cell_type": "markdown",
      "metadata": {
        "id": "PoPl-ycgm1ru"
      },
      "source": [
        "#### Missing Values/Null Values"
      ]
    },
    {
      "cell_type": "code",
      "execution_count": null,
      "metadata": {
        "id": "GgHWkxvamxVg"
      },
      "outputs": [],
      "source": [
        "# Missing Values/Null Values Count\n",
        "df.isnull().sum()"
      ]
    },
    {
      "cell_type": "code",
      "execution_count": null,
      "metadata": {
        "id": "3q5wnI3om9sJ"
      },
      "outputs": [],
      "source": [
        "# Visualizing the missing values\n",
        "missing = pd.DataFrame((df.isnull().sum())*100/df.shape[0]).reset_index()\n",
        "plt.figure(figsize=(16,5))\n",
        "ax = sns.pointplot('index',0,data=missing)\n",
        "plt.xticks(rotation =90,fontsize =7)\n",
        "plt.title(\"Percentage of Missing values\")\n",
        "plt.ylabel(\"PERCENTAGE\")\n",
        "plt.show()"
      ]
    },
    {
      "cell_type": "markdown",
      "metadata": {
        "id": "H0kj-8xxnORC"
      },
      "source": [
        "### What did you know about your dataset?"
      ]
    },
    {
      "cell_type": "markdown",
      "metadata": {
        "id": "gfoNAAC-nUe_"
      },
      "source": [
        "***There are 3333 rows and 20 columns in above dataset.Only one column is in boolean format.***\n",
        " \n",
        "***8 Variables is of Float Data type.***\n",
        "\n",
        "***8 Variables is of Interger data Type.***\n",
        "\n",
        "***3 Variables are in Object format i.e there are categorical values.***\n",
        "\n",
        "***So far the dataset which was provided by the Organization have CLEAN features without having any MISSING or NULL values.***"
      ]
    },
    {
      "cell_type": "markdown",
      "metadata": {
        "id": "nA9Y7ga8ng1Z"
      },
      "source": [
        "## ***2. Understanding Your Variables***"
      ]
    },
    {
      "cell_type": "code",
      "execution_count": null,
      "metadata": {
        "id": "ToN0KFTuBJYn"
      },
      "outputs": [],
      "source": [
        "df.columns"
      ]
    },
    {
      "cell_type": "markdown",
      "metadata": {
        "id": "eMH_SQAVBJYn"
      },
      "source": [
        "\n",
        "\n",
        "**STATE:**\n",
        "51 Unique States name\n",
        "\n",
        "**Account** **Length:**\n",
        "Length of The Account\n",
        "\n",
        "**International Plan:**\n",
        "Yes Indicate International Plan is Present and No Indicates no subscription for Internatinal Plan\n",
        "\n",
        "**Voice Mail Plan:**\n",
        "Yes Indicates Voice Mail Plan is Present and No Indicates no subscription for Voice Mail Plan\n",
        "\n",
        "**Number vmail messages:**\n",
        "Number of Voice Mail Messages ranging from 0 to 50\n",
        "\n",
        "**Total day minutes:**\n",
        " Total Number of Minutes Spent  in Morning\n",
        "\n",
        "**Total day calls:**\n",
        " Total Number of Calls made  in Morning.\n",
        "\n",
        "**Total day charge:**\n",
        " Total Charge to the Customers in Morning.\n",
        "\n",
        "**Total eve minutes:**\n",
        "Total Number of Minutes Spent  in Evening\n",
        "\n",
        "**Total eve calls:**\n",
        " Total Number of Calls made r in Evening.\n",
        "\n",
        "**Total eve charge:**\n",
        " Total Charge to the Customers in Morning.\n",
        "\n",
        "**Total night minutes:**\n",
        " Total Number of Minutes Spent  in the Night.\n",
        "\n",
        "**Total night calls:**\n",
        " Total Number of Calls made  in Night.\n",
        "\n",
        "**Total night charge:**\n",
        " Total Charge to the Customers in Night.\n",
        "\n",
        " **Customer service calls**\n",
        " Number of customer service calls made by customer\n",
        "\n",
        " **Churn**\n",
        " Customer Churn, True means churned customer, False means retained customer\n",
        " "
      ]
    },
    {
      "cell_type": "code",
      "execution_count": null,
      "metadata": {
        "id": "DnOaZdaE5Q5t"
      },
      "outputs": [],
      "source": [
        "# Dataset Describe\n",
        "df.describe().T.astype(int)"
      ]
    },
    {
      "cell_type": "markdown",
      "metadata": {
        "id": "PBTbrJXOngz2"
      },
      "source": [
        "### Variables Description "
      ]
    },
    {
      "cell_type": "markdown",
      "metadata": {
        "id": "aJV4KIxSnxay"
      },
      "source": [
        "All the variables in the Dataset does not have any missing or null values so the count will remain same for all the variables.\n",
        "\n",
        "Numerical Variables are more compared to Categorical Variables, And its in binary format. It will make easier to perform numerical analysis.\n",
        "\n",
        "\n",
        "\n",
        "\n",
        "\n",
        "\n"
      ]
    },
    {
      "cell_type": "markdown",
      "metadata": {
        "id": "u3PMJOP6ngxN"
      },
      "source": [
        "### Check Unique Values for each variable."
      ]
    },
    {
      "cell_type": "code",
      "execution_count": null,
      "metadata": {
        "id": "zms12Yq5n-jE"
      },
      "outputs": [],
      "source": [
        "def unique(df):\n",
        "  return df.unique()"
      ]
    },
    {
      "cell_type": "code",
      "execution_count": null,
      "metadata": {
        "id": "yy0rdC3TtAtP",
        "scrolled": true
      },
      "outputs": [],
      "source": [
        "df.apply(unique)"
      ]
    },
    {
      "cell_type": "code",
      "execution_count": null,
      "metadata": {
        "id": "4tCBmdkYBJYp"
      },
      "outputs": [],
      "source": [
        "df['Churn'].value_counts()"
      ]
    },
    {
      "cell_type": "markdown",
      "metadata": {
        "id": "dauF4eBmngu3"
      },
      "source": [
        "## 3. ***Data Wrangling***"
      ]
    },
    {
      "cell_type": "markdown",
      "metadata": {
        "id": "roZYvvNQtwna"
      },
      "source": [
        "As we know the Organization has given all the dataset, along with the specified variable with it.\n",
        "And this Feature will be our Target Variable.\n",
        "\n",
        "### Univariate Analysis"
      ]
    },
    {
      "cell_type": "code",
      "execution_count": null,
      "metadata": {
        "id": "wk-9a2fpoLcV"
      },
      "outputs": [],
      "source": [
        "print('Customers who did not left the services and are still using it, is {} % of total'.format(round(df['Churn'].value_counts()[0]/len(df['Churn'])*100)))\n",
        "print('Customers who left the services is {} % of total'.format(round(df['Churn'].value_counts()[1]/len(df['Churn'])*100)))\n",
        "x=df.Churn.value_counts()\n",
        "sns.barplot(x.index,x)\n",
        "plt.gca().set_ylabel('Churn')"
      ]
    },
    {
      "cell_type": "markdown",
      "metadata": {
        "id": "LbyXE7I1olp8"
      },
      "source": [
        "> First of all understanding the dataset which was done by collecting information\n",
        "\n",
        "> Some of the variables were not required so i have drop that variable which is 'Area Code' which was not necessary as the dataset was having State names.\n",
        "\n",
        "> Then moving forward i have thoroughly checked whether we have missing values or some nan values which was later found there are no missing values. The overall Data is clean.\n",
        "\n",
        "> And also i have find out with the help of bar plot that how many percentage of customers were churned. So 'Churn' variable is our Target variable."
      ]
    },
    {
      "cell_type": "markdown",
      "metadata": {
        "id": "xQ3-XdCVBJYq"
      },
      "source": [
        "### Analyzing State Column"
      ]
    },
    {
      "cell_type": "code",
      "execution_count": null,
      "metadata": {
        "id": "Zh-yl29nBJYq"
      },
      "outputs": [],
      "source": [
        "df['State'].value_counts()"
      ]
    },
    {
      "cell_type": "code",
      "execution_count": null,
      "metadata": {
        "id": "9f6wgvOsBJYq"
      },
      "outputs": [],
      "source": [
        "sns.set(style='darkgrid')\n",
        "plt.figure(figsize=(14,8))\n",
        "state= sns.countplot(x='State',hue='Churn',data=df)\n",
        "plt.show()"
      ]
    },
    {
      "cell_type": "markdown",
      "metadata": {
        "id": "tpjOH1fsBJYq"
      },
      "source": [
        "By Observing it,\n",
        "West Virginia has the HIGHEST non-churner customers as compared to the other states.\n",
        "\n",
        "California has the LOWEST non-churner customers as compared to the other states\n",
        "\n",
        "Similarly,\n",
        "New jersey has the highest churner customers as compared to the other states\n",
        "\n",
        "Iowa,Hawaii,Alaska. These states are the lowest of the lowest churner customers as compared to other states."
      ]
    },
    {
      "cell_type": "code",
      "execution_count": null,
      "metadata": {
        "id": "HiECyq_vBJYr"
      },
      "outputs": [],
      "source": [
        "plt.rcParams['figure.figsize'] = (12, 7)\n",
        "color = plt.cm.copper(np.linspace(0, 0.5, 20))\n",
        "((df.groupby(['State'])['Churn'].mean())*100).sort_values(ascending = False).head(5).plot.bar(color = ['violet','indigo','blue','grey','yellow','orange','red'])\n",
        "plt.title(\" State with Top 5 churn percentage\", fontsize = 20)\n",
        "plt.xlabel('state', fontsize = 15)\n",
        "plt.ylabel('percentage', fontsize = 15)\n",
        "plt.show()"
      ]
    },
    {
      "cell_type": "code",
      "execution_count": null,
      "metadata": {
        "id": "u_hYm7toBJYr"
      },
      "outputs": [],
      "source": [
        "df.groupby(['State'])['Churn'].mean().sort_values(ascending=False).head(5)"
      ]
    },
    {
      "cell_type": "markdown",
      "metadata": {
        "id": "fDvxVAXoBJYr"
      },
      "source": [
        "From the above Analysis New Jersey, California, Texas, Maryland and South Carolina are one of the top 5 states where customers are churning.\n",
        "\n",
        "Probaly the reason for this scenerio could be range/low coverage of the cellular network.\n",
        "\n",
        "So, The Organization might have to look into it. In order to prevent it."
      ]
    },
    {
      "cell_type": "markdown",
      "metadata": {
        "id": "Mqmyz15kBJYr"
      },
      "source": [
        "### Analyzing  Account Length column"
      ]
    },
    {
      "cell_type": "code",
      "execution_count": null,
      "metadata": {
        "id": "UehkJ3K0BJYs"
      },
      "outputs": [],
      "source": [
        "df['Account length'].value_counts()"
      ]
    },
    {
      "cell_type": "code",
      "execution_count": null,
      "metadata": {
        "id": "8hHjqAT5BJYs"
      },
      "outputs": [],
      "source": [
        "sns.distplot(df['Account length'])"
      ]
    },
    {
      "cell_type": "markdown",
      "metadata": {
        "id": "fgsXMwgyBJYs"
      },
      "source": [
        "By observing the figure, We don't see any Intuitions. lets colab with churn data."
      ]
    },
    {
      "cell_type": "code",
      "execution_count": null,
      "metadata": {
        "id": "IvZlz4TOBJYs"
      },
      "outputs": [],
      "source": [
        "churners= df[df['Churn'] == bool(True)]\n",
        "non_churners =df[df['Churn']==bool(False)]"
      ]
    },
    {
      "cell_type": "code",
      "execution_count": null,
      "metadata": {
        "id": "l8ySmZ8HBJYs"
      },
      "outputs": [],
      "source": [
        "sns.distplot(df['Account length'],label='ALL')\n",
        "sns.distplot(churners['Account length'],color = 'red',hist=False,label = 'Churners')\n",
        "sns.distplot(non_churners['Account length'],color = 'yellow',hist=True,label = 'non-Churners')\n",
        "plt.legend()"
      ]
    },
    {
      "cell_type": "markdown",
      "metadata": {
        "id": "uam2RcWjBJYt"
      },
      "source": [
        "We don't find any intuitions in this variable and neither related to churn data. Moving forwad to another vaariable."
      ]
    },
    {
      "cell_type": "markdown",
      "metadata": {
        "id": "dml5or5gBJYt"
      },
      "source": [
        "### Analyzing International plan column"
      ]
    },
    {
      "cell_type": "code",
      "execution_count": null,
      "metadata": {
        "id": "T8q-YFRtBJYt"
      },
      "outputs": [],
      "source": [
        "df['International plan'].value_counts()"
      ]
    },
    {
      "cell_type": "code",
      "execution_count": null,
      "metadata": {
        "id": "spmtM-IHBJYt"
      },
      "outputs": [],
      "source": [
        "#Calculating churn percentage using international plan.\n",
        "data = pd.crosstab(df[\"International plan\"],df[\"Churn\"])\n",
        "data['Percentage Churn'] = data.apply(lambda x : x[1]*100/(x[0]+x[1]),axis = 1)\n",
        "print(data)"
      ]
    },
    {
      "cell_type": "code",
      "execution_count": null,
      "metadata": {
        "id": "gNy563YjBJYt"
      },
      "outputs": [],
      "source": [
        "sns.countplot(x='International plan',hue='Churn',data=df)"
      ]
    },
    {
      "cell_type": "markdown",
      "metadata": {
        "id": "YPQpz8jMBJYt"
      },
      "source": [
        "There are 3010 customers who don't have International plans.\n",
        "\n",
        "Therwhe are 323 customers who have International plans.\n",
        "\n",
        "Those who have International plans have churned about 42.4% percentage wise.\n",
        "\n",
        "11.4% of the customers who did not churned have none International plans.\n",
        "\n",
        "so, As we can see the customers who bought International plans are churning.\n",
        "\n",
        "Probably plans has high call charges or can also have connectivity issue."
      ]
    },
    {
      "cell_type": "markdown",
      "metadata": {
        "id": "8wxj4GXEBJYu"
      },
      "source": [
        "### Analyzing Voice mail plan column"
      ]
    },
    {
      "cell_type": "code",
      "execution_count": null,
      "metadata": {
        "id": "YtfuQkHPBJYu"
      },
      "outputs": [],
      "source": [
        "#Calculating churn percentage using voice mail plan.\n",
        "data = pd.crosstab(df[\"Voice mail plan\"],df[\"Churn\"])\n",
        "data['Percentage Churn'] = data.apply(lambda x : x[1]*100/(x[0]+x[1]),axis = 1)\n",
        "data"
      ]
    },
    {
      "cell_type": "code",
      "execution_count": null,
      "metadata": {
        "id": "R-jQs14mBJYu"
      },
      "outputs": [],
      "source": [
        "sns.countplot(x='Voice mail plan',hue ='Churn',data=df)"
      ]
    },
    {
      "cell_type": "markdown",
      "metadata": {
        "id": "_pS7ui9ABJYu"
      },
      "source": [
        "Same as International plan variable, People who don't have any voice mail plans not churning."
      ]
    },
    {
      "cell_type": "markdown",
      "metadata": {
        "id": "4G3RXsUvBJYu"
      },
      "source": [
        "### Analyzing Number vmail messages columns"
      ]
    },
    {
      "cell_type": "code",
      "execution_count": null,
      "metadata": {
        "id": "YCtnKaa1BJYu"
      },
      "outputs": [],
      "source": [
        "df['Number vmail messages'].value_counts()"
      ]
    },
    {
      "cell_type": "code",
      "execution_count": null,
      "metadata": {
        "id": "54_T6UNjBJYv"
      },
      "outputs": [],
      "source": [
        "df['Number vmail messages'].unique()"
      ]
    },
    {
      "cell_type": "code",
      "execution_count": null,
      "metadata": {
        "id": "CMz_R_3-BJYv"
      },
      "outputs": [],
      "source": [
        "df.boxplot(column='Number vmail messages',by='Churn')\n"
      ]
    },
    {
      "cell_type": "markdown",
      "metadata": {
        "id": "ZQsRFZ3jBJYv"
      },
      "source": [
        "From the above figure, we are seeing churners are leaving the plans, If there is more than 15 voice mail messages.\n",
        "\n",
        "Company may have to improve their voice mail quality."
      ]
    },
    {
      "cell_type": "markdown",
      "metadata": {
        "id": "eIwL5WhlBJYv"
      },
      "source": [
        "### Analyzing Customer secive calls columns"
      ]
    },
    {
      "cell_type": "code",
      "execution_count": null,
      "metadata": {
        "id": "sHAxzRW6BJYv"
      },
      "outputs": [],
      "source": [
        "df['Customer service calls'].value_counts()"
      ]
    },
    {
      "cell_type": "code",
      "execution_count": null,
      "metadata": {
        "id": "rtW98nVDBJYw"
      },
      "outputs": [],
      "source": [
        "data = pd.crosstab(df['Customer service calls'],df['Churn'])\n",
        "data['Percentage_Churn'] = data.apply(lambda x : x[1]*100/(x[0]+x[1]),axis = 1)\n",
        "data"
      ]
    },
    {
      "cell_type": "code",
      "execution_count": null,
      "metadata": {
        "id": "s8rlA1ieBJYw"
      },
      "outputs": [],
      "source": [
        "sns.countplot(x='Customer service calls',hue= 'Churn',data=df)"
      ]
    },
    {
      "cell_type": "markdown",
      "metadata": {
        "id": "HiIOfyqPBJYw"
      },
      "source": [
        "Customer service is also the important part of the Organization. From the above data it is observed that customers called service center more than 4 times have churned the services.\n",
        "\n",
        "More than 60% of the customers are churning. So, company should work to improve the effiecency of the service calls. "
      ]
    },
    {
      "cell_type": "markdown",
      "metadata": {
        "id": "ZEu1J_kaBJYw"
      },
      "source": [
        "### Analyzing all the calls columns \n",
        "\n",
        "All the columns are now in numerical format, so we will be executing numerical methods"
      ]
    },
    {
      "cell_type": "code",
      "execution_count": null,
      "metadata": {
        "id": "U1GvlHtiBJYw"
      },
      "outputs": [],
      "source": [
        "# Evaluating mean\n",
        "df.groupby(['Churn'])['Total day calls'].mean()\n"
      ]
    },
    {
      "cell_type": "code",
      "execution_count": null,
      "metadata": {
        "id": "zhmMakyxBJYw"
      },
      "outputs": [],
      "source": [
        "df.groupby(['Churn'])['Total day minutes'].mean()"
      ]
    },
    {
      "cell_type": "code",
      "execution_count": null,
      "metadata": {
        "id": "6WDkRQqwBJYx"
      },
      "outputs": [],
      "source": [
        "df.groupby(['Churn'])['Total day charge'].mean()"
      ]
    },
    {
      "cell_type": "code",
      "execution_count": null,
      "metadata": {
        "id": "GF8Ens_Soomf"
      },
      "outputs": [],
      "source": [
        "sns.scatterplot(x='Total day minutes',y='Total day charge',hue='Churn', data=df,palette='hls')"
      ]
    },
    {
      "cell_type": "code",
      "execution_count": null,
      "metadata": {
        "id": "6_uZKpdvBJYx"
      },
      "outputs": [],
      "source": [
        "#Evaluating average customers from total evening calls\n",
        "df.groupby(['Churn'])['Total eve calls'].mean()"
      ]
    },
    {
      "cell_type": "code",
      "execution_count": null,
      "metadata": {
        "id": "3zvmOgkiBJYx"
      },
      "outputs": [],
      "source": [
        "#Evaluating average customers from total evening minutes\n",
        "df.groupby(['Churn'])['Total eve minutes'].mean()"
      ]
    },
    {
      "cell_type": "code",
      "execution_count": null,
      "metadata": {
        "id": "E4KhXqXHBJYx"
      },
      "outputs": [],
      "source": [
        "#Evaluating average customers from total evening charges\n",
        "df.groupby(['Churn'])['Total eve charge'].mean()"
      ]
    },
    {
      "cell_type": "code",
      "execution_count": null,
      "metadata": {
        "scrolled": true,
        "id": "HB8wJtWoBJYx"
      },
      "outputs": [],
      "source": [
        "sns.scatterplot(x='Total eve minutes',y='Total eve charge',hue='Churn', data=df,palette='hls')"
      ]
    },
    {
      "cell_type": "code",
      "execution_count": null,
      "metadata": {
        "id": "rkSAXjpWBJYy"
      },
      "outputs": [],
      "source": [
        "#Evaluating average customers from total night calls\n",
        "df.groupby(['Churn'])['Total night calls'].mean()"
      ]
    },
    {
      "cell_type": "code",
      "execution_count": null,
      "metadata": {
        "id": "GqybjKjzBJYy"
      },
      "outputs": [],
      "source": [
        "#Evaluating average customers from total night minutes\n",
        "df.groupby(['Churn'])['Total night minutes'].mean()"
      ]
    },
    {
      "cell_type": "code",
      "execution_count": null,
      "metadata": {
        "id": "l6g994w7BJYy"
      },
      "outputs": [],
      "source": [
        "#Evaluating average customers from total night charges\n",
        "df.groupby(['Churn'])['Total night charge'].mean()"
      ]
    },
    {
      "cell_type": "code",
      "execution_count": null,
      "metadata": {
        "id": "NJkFPBjmBJYy"
      },
      "outputs": [],
      "source": [
        "sns.scatterplot(x='Total night minutes',y = 'Total night charge',hue  = 'Churn',data=df)"
      ]
    },
    {
      "cell_type": "code",
      "execution_count": null,
      "metadata": {
        "id": "1FGg1XaaBJYy"
      },
      "outputs": [],
      "source": [
        "#Evaluating average customers from total international minutes\n",
        "df.groupby(['Churn'])['Total intl minutes'].mean()"
      ]
    },
    {
      "cell_type": "code",
      "execution_count": null,
      "metadata": {
        "id": "3mOx3bWNBJYy"
      },
      "outputs": [],
      "source": [
        "#Evaluating average customers from total international calls\n",
        "df.groupby(['Churn'])['Total intl calls'].mean()"
      ]
    },
    {
      "cell_type": "code",
      "execution_count": null,
      "metadata": {
        "id": "933oevUnBJYz"
      },
      "outputs": [],
      "source": [
        "#Evaluating average customers from total international charges\n",
        "df.groupby(['Churn'])['Total intl charge'].mean()"
      ]
    },
    {
      "cell_type": "code",
      "execution_count": null,
      "metadata": {
        "id": "hSCtLn4LBJYz"
      },
      "outputs": [],
      "source": [
        "sns.scatterplot(x ='Total intl minutes',y='Total intl charge',hue='Churn',data=df)"
      ]
    },
    {
      "cell_type": "code",
      "execution_count": null,
      "metadata": {
        "id": "AQ46nmsbBJYz"
      },
      "outputs": [],
      "source": [
        "day =df['Total day charge'].mean()/df['Total day minutes'].mean()\n",
        "eve =df['Total eve charge'].mean()/df['Total eve minutes'].mean()\n",
        "night =df['Total night charge'].mean()/df['Total night minutes'].mean()\n",
        "intl =df['Total intl charge'].mean()/df['Total intl minutes'].mean()"
      ]
    },
    {
      "cell_type": "code",
      "execution_count": null,
      "metadata": {
        "id": "fr-Z_eDqBJYz"
      },
      "outputs": [],
      "source": [
        "day,eve,night,intl"
      ]
    },
    {
      "cell_type": "code",
      "execution_count": null,
      "metadata": {
        "id": "FyBp7PRMBJYz"
      },
      "outputs": [],
      "source": [
        "sns.barplot(x=['Day','evening','night','internatonal'],y=[day,eve,night,intl])"
      ]
    },
    {
      "cell_type": "markdown",
      "metadata": {
        "id": "IMpKHYhnBJYz"
      },
      "source": [
        "After observing the above Figure, we found that total day/night/evening minutes/calls/charges are not a cause of churn rate. However, international call charges are expensive when compared to others, which might be a reason for international plan customers to end up leaving."
      ]
    },
    {
      "cell_type": "markdown",
      "metadata": {
        "id": "0wOQAZs5pc--"
      },
      "source": [
        "### Bivariate Analysis\n",
        "\n",
        "In Bivariate Analysis we analyze data by taking more than one column from the dataset. "
      ]
    },
    {
      "cell_type": "code",
      "execution_count": null,
      "metadata": {
        "id": "7v_ESjsspbW7"
      },
      "outputs": [],
      "source": [
        "\n",
        "categorical_columns = ['International plan','Voice mail plan']\n",
        "Numerical_columns = ['Account length','Number vmail messages','Total day minutes','Total day calls','Total day charge','Total eve minutes','Total eve calls','Total eve charge','Total night minutes','Total night calls','Total night charge','Total intl minutes','Total intl calls','Total intl charge','Customer service calls']"
      ]
    },
    {
      "cell_type": "code",
      "execution_count": null,
      "metadata": {
        "id": "QGTEViR2BJY0"
      },
      "outputs": [],
      "source": [
        "fig,axes = plt.subplots(2,1,figsize=(10,12))\n",
        "for index,cat_col in enumerate(categorical_columns):\n",
        "    row,col = index//1,index%1\n",
        "    sns.countplot(x=cat_col,data=df,hue='Churn',ax=axes[row])"
      ]
    },
    {
      "cell_type": "markdown",
      "metadata": {
        "id": "XESiWehPqBRc"
      },
      "source": [
        "> Here i have used subplots which will help us to give more than one visual.\n",
        "\n",
        "> And also i have use countplot which will help us to give clear understanding of columns along with Target variable.\n"
      ]
    },
    {
      "cell_type": "markdown",
      "metadata": {
        "id": "C_j1G7yiqdRP"
      },
      "source": [
        "> Customers who do not have any International plan didn't churn this company services and The Customers who have or had    \tInternational plans churned this company services.\n",
        "\n",
        "> Customer who do not have any Voive mail plan didn't churn this company services, Whereas the Customers who has the have or had Voice mail plans churned this company serivces"
      ]
    },
    {
      "cell_type": "markdown",
      "metadata": {
        "id": "3cspy4FjqxJW"
      },
      "source": [
        "> As per the above findings, It seems that the cost of International plans and voice mail plans are higher than the other telecom industries, and thats the reason customers are churning. \n",
        "\n",
        "> As per the findings, I am seeing a negative growth in these plans. The Organization might have to change their costing in plans in order to prevent customer churning. "
      ]
    },
    {
      "cell_type": "code",
      "execution_count": null,
      "metadata": {
        "id": "V-BGvSE3BJY0"
      },
      "outputs": [],
      "source": [
        "df"
      ]
    },
    {
      "cell_type": "code",
      "execution_count": null,
      "metadata": {
        "id": "buuMjRQcBJY0"
      },
      "outputs": [],
      "source": [
        "sns.FacetGrid(df,hue ='Churn',size=10).map(plt.scatter,'Total day charge','Total intl charge').add_legend();\n",
        "plt.show()"
      ]
    },
    {
      "cell_type": "markdown",
      "metadata": {
        "id": "axFwGhS6BJY1"
      },
      "source": [
        "From the above figure,We can see mostly customers are churning when there is above 30$ of day charges."
      ]
    },
    {
      "cell_type": "code",
      "execution_count": null,
      "metadata": {
        "scrolled": true,
        "id": "zKNZlL_HBJY1"
      },
      "outputs": [],
      "source": [
        "sns.FacetGrid(df,hue ='Churn',size=10).map(plt.scatter,'Total eve charge','Total intl charge').add_legend();\n",
        "plt.show()"
      ]
    },
    {
      "cell_type": "markdown",
      "metadata": {
        "id": "d4wCwWmxBJY1"
      },
      "source": [
        "Mostly customers are churning the company from the range of 10-30$ of evening charges."
      ]
    },
    {
      "cell_type": "code",
      "execution_count": null,
      "metadata": {
        "id": "kBmuC38rBJY1"
      },
      "outputs": [],
      "source": [
        "sns.FacetGrid(df,hue ='Churn',size=10).map(plt.scatter,'Total night charge','Total intl charge').add_legend();\n",
        "plt.show()"
      ]
    },
    {
      "cell_type": "markdown",
      "metadata": {
        "id": "6vWVsbhmBJY1"
      },
      "source": [
        "### Multivariate Analysis\n",
        "\n",
        "In Multivariate Analysis we analyze the data by taking two or more columns from the dataset"
      ]
    },
    {
      "cell_type": "code",
      "execution_count": null,
      "metadata": {
        "id": "vW5N0wUgBJY1"
      },
      "outputs": [],
      "source": [
        "plt.figure(figsize=(19,8))\n",
        "df.corr()['Churn'].sort_values(ascending = False).plot(kind='bar',color=['red','yellow','blue','green','brown','indigo','orange'])"
      ]
    },
    {
      "cell_type": "code",
      "execution_count": null,
      "metadata": {
        "id": "4Cif8AEDBJY1"
      },
      "outputs": [],
      "source": [
        "plt.figure(figsize=(17,8))\n",
        "correlation=df.corr()\n",
        "sns.heatmap(abs(correlation), annot=True, cmap='coolwarm')"
      ]
    },
    {
      "cell_type": "markdown",
      "metadata": {
        "id": "8G2x9gOozGDZ"
      },
      "source": [
        "***After performing exploratory data analysis on the data set, this is what we have incurred from data:***\n",
        "\n",
        "* ***Some states have a higher churn rate than others, which might be due to poor network coverage.***\n",
        "****Because the area code and account length have no influence on the churn rate, they are redundant data columns.***\n",
        "****Customers who have the International plan churn more frequently, and the international calling charges are also high, leaving customers dissatisfied with network issues and high call charges.***\n",
        "****When there are more than 20 voice-mail messages in the voice mail section, there is churn, which basically means that the voice mail quality is poor.***.\n",
        "****Total day call minutes, total day calls, Total day charge, Total eve minutes, Total eve calls, Total eve charge, Total night minutes, Total night calls, Total night charge, none of these columns had any bearing on the churn rate.***\n",
        "****Data on international calls shows that the churn rate of those customers who take the international plan is high, implying that international call charges are high as well as a call drop or network issue.***\n",
        "****Data from customer service calls shows that when an unsatisfied customer calls the service centre, the churn rate is high, indicating that the service centre did not resolve the customer's issue.*** "
      ]
    },
    {
      "cell_type": "markdown",
      "metadata": {
        "id": "gCX9965dhzqZ"
      },
      "source": [
        "# **Conclusion**"
      ]
    },
    {
      "cell_type": "markdown",
      "metadata": {
        "id": "Fjb1IsQkh3yE"
      },
      "source": [
        "* ***Increase network coverage in the churned state***\n",
        "*  ***Customers can benefit from a discount plan in international plans.***\n",
        "*  ***Improve the voice mail quality or solicit customer feedback***\n",
        "*  ***Improve call centre service by soliciting frequent feedback from customers about their problems and attempting to resolve them as soon as possible.***"
      ]
    }
  ],
  "metadata": {
    "colab": {
      "collapsed_sections": [
        "0wOQAZs5pc--"
      ],
      "private_outputs": true,
      "provenance": []
    },
    "gpuClass": "standard",
    "kernelspec": {
      "display_name": "Python 3 (ipykernel)",
      "language": "python",
      "name": "python3"
    },
    "language_info": {
      "codemirror_mode": {
        "name": "ipython",
        "version": 3
      },
      "file_extension": ".py",
      "mimetype": "text/x-python",
      "name": "python",
      "nbconvert_exporter": "python",
      "pygments_lexer": "ipython3",
      "version": "3.9.12"
    }
  },
  "nbformat": 4,
  "nbformat_minor": 0
}